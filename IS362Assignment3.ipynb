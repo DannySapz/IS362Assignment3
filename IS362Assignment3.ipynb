{
 "cells": [
  {
   "cell_type": "code",
   "execution_count": 39,
   "metadata": {
    "collapsed": false
   },
   "outputs": [
    {
     "name": "stdout",
     "output_type": "stream",
     "text": [
      "day1     55\n",
      "day2     65\n",
      "day3    100\n",
      "day4     23\n",
      "day5     89\n",
      "day6     55\n",
      "day7     73\n",
      "dtype: int64\n"
     ]
    }
   ],
   "source": [
    "#import pandas\n",
    "import pandas as pd\n",
    "#needed for iterable?\n",
    "import numpy as np\n",
    "\n",
    "#make pandas series object to display days with the miles traveled for each day\n",
    "#after day2 i just chose random numbers...\n",
    "s2 = pd.Series([55, 65, 100, 23, 89, 55, 73], index=['day1', 'day2', 'day3', 'day4', 'day5', 'day6', 'day7'])\n",
    "print s2"
   ]
  },
  {
   "cell_type": "code",
   "execution_count": 48,
   "metadata": {
    "collapsed": false
   },
   "outputs": [
    {
     "name": "stdout",
     "output_type": "stream",
     "text": [
      "day1 55\n",
      "day2 120\n",
      "day3 220\n",
      "day4 243\n",
      "day5 332\n",
      "day6 387\n",
      "day7 460\n"
     ]
    }
   ],
   "source": [
    "#maybe a for loop?\n",
    "#iterate over the pandas series so theres a cumulative total at the end of each day\n",
    "\n",
    "#blank list\n",
    "total_miles = 0\n",
    "#for loop to iterate over the panda series object\n",
    "for index, row in s2.iteritems():\n",
    "    total_miles += row\n",
    "    print index, total_miles"
   ]
  },
  {
   "cell_type": "code",
   "execution_count": null,
   "metadata": {
    "collapsed": true
   },
   "outputs": [],
   "source": []
  }
 ],
 "metadata": {
  "kernelspec": {
   "display_name": "Python [Root]",
   "language": "python",
   "name": "Python [Root]"
  },
  "language_info": {
   "codemirror_mode": {
    "name": "ipython",
    "version": 2
   },
   "file_extension": ".py",
   "mimetype": "text/x-python",
   "name": "python",
   "nbconvert_exporter": "python",
   "pygments_lexer": "ipython2",
   "version": "2.7.12"
  }
 },
 "nbformat": 4,
 "nbformat_minor": 0
}
